{
  "nbformat": 4,
  "nbformat_minor": 0,
  "metadata": {
    "colab": {
      "provenance": [],
      "authorship_tag": "ABX9TyOd5v/ZQRlU4LRtYRCL0mbn",
      "include_colab_link": true
    },
    "kernelspec": {
      "name": "python3",
      "display_name": "Python 3"
    },
    "language_info": {
      "name": "python"
    }
  },
  "cells": [
    {
      "cell_type": "markdown",
      "metadata": {
        "id": "view-in-github",
        "colab_type": "text"
      },
      "source": [
        "<a href=\"https://colab.research.google.com/github/Nashra-Tazmeen/Daily_learnings/blob/main/D_1.ipynb\" target=\"_parent\"><img src=\"https://colab.research.google.com/assets/colab-badge.svg\" alt=\"Open In Colab\"/></a>"
      ]
    },
    {
      "cell_type": "markdown",
      "source": [
        "1.There are two tables write a query to fetch first transaction of the day for each customer\n",
        "https://onecompiler.com/mysql/42qvvw8uu"
      ],
      "metadata": {
        "id": "DvQS4eWcZpAS"
      }
    },
    {
      "cell_type": "code",
      "source": [],
      "metadata": {
        "id": "JOKzoGrHZ5nB"
      },
      "execution_count": null,
      "outputs": []
    }
  ]
}