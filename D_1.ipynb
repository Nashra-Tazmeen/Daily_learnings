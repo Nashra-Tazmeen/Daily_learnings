{
  "nbformat": 4,
  "nbformat_minor": 0,
  "metadata": {
    "colab": {
      "provenance": [],
      "authorship_tag": "ABX9TyP6k6SuhbeolA0Y5N9HJW+X",
      "include_colab_link": true
    },
    "kernelspec": {
      "name": "python3",
      "display_name": "Python 3"
    },
    "language_info": {
      "name": "python"
    }
  },
  "cells": [
    {
      "cell_type": "markdown",
      "metadata": {
        "id": "view-in-github",
        "colab_type": "text"
      },
      "source": [
        "<a href=\"https://colab.research.google.com/github/Nashra-Tazmeen/Daily_learnings/blob/main/D_1.ipynb\" target=\"_parent\"><img src=\"https://colab.research.google.com/assets/colab-badge.svg\" alt=\"Open In Colab\"/></a>"
      ]
    },
    {
      "cell_type": "markdown",
      "source": [
        "1.Phonepay Decision scientist Interview questions:\n",
        "\n",
        ".There are two tables\n",
        "1.customers-name,address,age,customer_id\n",
        "2. transactions-\n",
        "customer_id,Transaction_id,tranaction_date,amount,bank_name,transaction_mode,\n",
        " write a query to fetch first transaction of the day for each customer\n",
        "https://onecompiler.com/mysql/42qvvw8uu"
      ],
      "metadata": {
        "id": "DvQS4eWcZpAS"
      }
    },
    {
      "cell_type": "code",
      "source": [],
      "metadata": {
        "id": "JOKzoGrHZ5nB"
      },
      "execution_count": null,
      "outputs": []
    }
  ]
}