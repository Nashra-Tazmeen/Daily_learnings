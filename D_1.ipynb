{
  "nbformat": 4,
  "nbformat_minor": 0,
  "metadata": {
    "colab": {
      "provenance": [],
      "authorship_tag": "ABX9TyPCKNcl0Nek/ncyT7zP5KFo",
      "include_colab_link": true
    },
    "kernelspec": {
      "name": "python3",
      "display_name": "Python 3"
    },
    "language_info": {
      "name": "python"
    }
  },
  "cells": [
    {
      "cell_type": "markdown",
      "metadata": {
        "id": "view-in-github",
        "colab_type": "text"
      },
      "source": [
        "<a href=\"https://colab.research.google.com/github/Nashra-Tazmeen/Daily_learnings/blob/main/D_1.ipynb\" target=\"_parent\"><img src=\"https://colab.research.google.com/assets/colab-badge.svg\" alt=\"Open In Colab\"/></a>"
      ]
    },
    {
      "cell_type": "markdown",
      "source": [],
      "metadata": {
        "id": "qm--106KQUn3"
      }
    },
    {
      "cell_type": "markdown",
      "source": [],
      "metadata": {
        "id": "Vhpz3tzTQWAM"
      }
    },
    {
      "cell_type": "markdown",
      "source": [
        "Google Colab: You can connect Google Colab directly to your GitHub repository. This allows you to open notebooks from GitHub, make changes, and save them back to the reposito"
      ],
      "metadata": {
        "id": "A_wdf9XgQbZR"
      }
    }
  ]
}