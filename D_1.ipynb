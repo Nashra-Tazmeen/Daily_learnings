{
  "nbformat": 4,
  "nbformat_minor": 0,
  "metadata": {
    "colab": {
      "provenance": [],
      "authorship_tag": "ABX9TyMDs8eYP4JMk5iLZBP09J8v",
      "include_colab_link": true
    },
    "kernelspec": {
      "name": "python3",
      "display_name": "Python 3"
    },
    "language_info": {
      "name": "python"
    }
  },
  "cells": [
    {
      "cell_type": "markdown",
      "metadata": {
        "id": "view-in-github",
        "colab_type": "text"
      },
      "source": [
        "<a href=\"https://colab.research.google.com/github/Nashra-Tazmeen/Daily_learnings/blob/main/D_1.ipynb\" target=\"_parent\"><img src=\"https://colab.research.google.com/assets/colab-badge.svg\" alt=\"Open In Colab\"/></a>"
      ]
    },
    {
      "cell_type": "markdown",
      "source": [],
      "metadata": {
        "id": "qm--106KQUn3"
      }
    },
    {
      "cell_type": "markdown",
      "source": [],
      "metadata": {
        "id": "Vhpz3tzTQWAM"
      }
    },
    {
      "cell_type": "markdown",
      "source": [
        "\n",
        "-- create\n",
        "CREATE TABLE CUSTOMERS (\n",
        "  customer_id INTEGER PRIMARY KEY,\n",
        "  name TEXT NOT NULL,\n",
        "  address TEXT NOT NULL,\n",
        "  age INTEGER\n",
        ");\n",
        "CREATE TABLE TRANSACTIONS (\n",
        "  transaction_id INTEGER PRIMARY KEY,\n",
        "  name TEXT NOT NULL,\n",
        "  address TEXT NOT NULL,\n",
        "  amount INTEGER ,\n",
        "  customer_id INTEGER,\n",
        "  transaction_date DATE,\n",
        "  transaction_mode TEXT,\n",
        "  bank_name TEXT,\n",
        "  FOREIGN KEY (customer_id) REFERENCES CUSTOMERS (customer_id)\n",
        ");\n",
        "  \n",
        "\n",
        "\n",
        "-- insert\n",
        "INSERT INTO CUSTOMERS (customer_id, name, address, age)\n",
        "VALUES\n",
        "(1, 'Alice Johnson', '123 Maple St', 30),\n",
        "(2, 'Bob Smith', '456 Oak St', 45);\n",
        "\n",
        "\n",
        "INSERT INTO TRANSACTIONS (transaction_id, name, address, amount, customer_id, transaction_date, transaction_mode, bank_name)\n",
        "VALUES\n",
        "(1, 'Alice Johnson', '123 Maple St', 100, 1, '2024-09-01', 'Credit Card', 'Bank of America'),\n",
        "(2, 'Bob Smith', '456 Oak St', 250, 2, '2024-09-02', 'Debit Card', 'Chase Bank'),\n",
        "(3, 'Alice Johnson', '123 Maple St', 150, 1, '2024-09-01', 'Debit Card', 'Bank of America'),\n",
        "(4, 'Alice Johnson', '123 Maple St', 50, 1, '2024-09-01', 'Cash', 'Bank of America');\n",
        "\n",
        "WITH RankedTransactions AS (\n",
        "    SELECT\n",
        "        *,\n",
        "        ROW_NUMBER() OVER (PARTITION BY customer_id, transaction_date ORDER BY transaction_id) AS rn\n",
        "    FROM TRANSACTIONS\n",
        ")\n",
        "SELECT\n",
        "    *\n",
        "FROM RankedTransactions\n",
        "WHERE rn = 1;\n"
      ],
      "metadata": {
        "id": "VVX3bCz4YwKh"
      }
    }
  ]
}