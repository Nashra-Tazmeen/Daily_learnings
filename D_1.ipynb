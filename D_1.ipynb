{
  "nbformat": 4,
  "nbformat_minor": 0,
  "metadata": {
    "colab": {
      "provenance": [],
      "authorship_tag": "ABX9TyN3Cbx5nvcIefiv04kz4aPY",
      "include_colab_link": true
    },
    "kernelspec": {
      "name": "python3",
      "display_name": "Python 3"
    },
    "language_info": {
      "name": "python"
    }
  },
  "cells": [
    {
      "cell_type": "markdown",
      "metadata": {
        "id": "view-in-github",
        "colab_type": "text"
      },
      "source": [
        "<a href=\"https://colab.research.google.com/github/Nashra-Tazmeen/Daily_learnings/blob/main/D_1.ipynb\" target=\"_parent\"><img src=\"https://colab.research.google.com/assets/colab-badge.svg\" alt=\"Open In Colab\"/></a>"
      ]
    },
    {
      "cell_type": "markdown",
      "source": [
        "Phonepay Decision scientist Interview questions:\n",
        "\n",
        "I.There are two tables\n",
        "1.customers-name,address,age,customer_id\n",
        "2. transactions-\n",
        "customer_id,Transaction_id,tranaction_date,amount,bank_name,transaction_mode,\n",
        "\n",
        "write a query to fetch first transaction of the day for each customer\n",
        "https://onecompiler.com/mysql/42qvvw8uu\n",
        "\n",
        "\n",
        "\n",
        "SQL ROW_NUMBER Syntax::\n",
        "\n",
        "\n",
        "The syntax for ROW_NUMBER function in SQL is as follows-\n",
        "\n",
        "ROW_NUMBER() OVER (\n",
        "[PARTITION BY partition_expression, ... ]\n",
        "ORDER BY sort_expression [ASC | DESC], ...\n",
        ")\n",
        "\n",
        "Now, let us look at the different clauses used in the syntax above.\n",
        "\n",
        "OVER\n",
        "This clause specifies the window or set of rows that the window function operates. The PARTITION BY and ORDER BY are the two possible clauses of the OVER clause.\n",
        "\n",
        "PARTITION BY\n",
        "It is an optional clause in the ROW_NUMBER function. It is a clause that divides the result set into partitions (groups of rows). The ROW_NUMBER() method is then applied to each partition, which assigns a separate rank number to each partition.\n",
        "\n",
        "If the partition by clause is not specified, the ROW NUMBER function will treat the entire result as a single partition and rank it from top to bottom.\n",
        "\n",
        "ORDER BY\n",
        "Within each partition, this clause allows us to order the rows in the result set. Because the ROW NUMBER() function is order-dependent, it is a necessary clause.\n"
      ],
      "metadata": {
        "id": "DvQS4eWcZpAS"
      }
    },
    {
      "cell_type": "markdown",
      "source": [],
      "metadata": {
        "id": "pD4n-yAu4mAY"
      }
    },
    {
      "cell_type": "markdown",
      "source": [
        "2.Guesstimate::\n",
        "\n",
        "https://www.simplilearn.com/top-guesstimate-questions-article#:~:text=You%20can%20solve%20a%20guesstimate,knowledge%20to%20estimate%20each%20piece.\n",
        "\n",
        "\n",
        "designng a runway you need to estimate number of flights taking off and  landing in an airport make your own assumpations\n",
        "\n",
        "Designing a runway involves estimating the number of flights taking off and landing at an airport. To make a reasonable estimate, you need to consider various factors, such as airport size, location, type of aircraft, and operational hours. Let’s make some assumptions and calculate the estimated number of flights:\n",
        "\n",
        "Assumptions:\n",
        "Airport Type:\n",
        "\n",
        "Assume the airport is a medium-sized regional airport.\n",
        "Operational Hours:\n",
        "\n",
        "The airport operates 18 hours per day (from 6 AM to midnight).\n",
        "Average Turnaround Time:\n",
        "\n",
        "Average turnaround time for a flight (including taxi, takeoff, landing, and taxi) is 1 hour.\n",
        "Runway Utilization:\n",
        "\n",
        "Assume the runway can handle an average of 30 flights per hour (15 takeoffs and 15 landings).\n",
        "Peak vs. Off-Peak Hours:\n",
        "\n",
        "Peak hours are from 8 AM to 10 AM and 4 PM to 6 PM. In these periods, the runway handles 40 flights per hour.\n",
        "Off-peak hours are from 6 AM to 8 AM, 10 AM to 4 PM, and 6 PM to midnight. In these periods, the runway handles 20 flights per hour.\n",
        "Calculation:\n",
        "Number of Flights per Day:\n",
        "\n",
        "Peak Hours: 2 hours in the morning + 2 hours in the evening = 4 peak hours\n",
        "\n",
        "Peak Flights per Hour = 40\n",
        "Total Peak Flights = 4 hours * 40 flights/hour = 160 flights\n",
        "Off-Peak Hours: 4 hours in the morning + 6 hours in the afternoon + 6 hours in the evening = 16 off-peak hours\n",
        "\n",
        "Off-Peak Flights per Hour = 20\n",
        "Total Off-Peak Flights = 16 hours * 20 flights/hour = 320 flights\n",
        "Total Flights per Day:\n",
        "\n",
        "Total Flights = Peak Flights + Off-Peak Flights\n",
        "Total Flights = 160 + 320 = 480 flights\n",
        "Number of Flights per Year:\n",
        "\n",
        "Assume the airport operates 365 days a year.\n",
        "Total Flights per Year = Total Flights per Day * 365\n",
        "Total Flights per Year = 480 * 365 = 175,200 flights\n"
      ],
      "metadata": {
        "id": "7RURXgif4nf8"
      }
    },
    {
      "cell_type": "markdown",
      "source": [
        "3.Do you have exp in statistical modelling::\n",
        "If someone asks whether you have experience in statistical modeling, here’s how you can structure your response, depending on your level of experience:\n",
        "\n",
        "1. If You Have Experience:\n",
        "Brief Summary: \"Yes, I have experience in statistical modeling. I’ve worked with various techniques such as linear regression, logistic regression, and time series analysis. For example, in my recent project, I used [specific model/technique] to [briefly describe what you did, e.g., predict sales trends].\"\n",
        "\n",
        "Specific Tools/Software: \"I’ve used tools like R, Python (with libraries such as statsmodels and scikit-learn), and SAS for statistical modeling.\"\n",
        "\n",
        "Quantify Experience: \"I have applied statistical models in [mention the context, e.g., research, business analysis] for [number] years, which involved [briefly describe specific tasks or projects].\""
      ],
      "metadata": {
        "id": "cq4q18-06Dc9"
      }
    }
  ]
}