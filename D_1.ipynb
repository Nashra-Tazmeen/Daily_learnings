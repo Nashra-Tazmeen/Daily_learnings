{
  "nbformat": 4,
  "nbformat_minor": 0,
  "metadata": {
    "colab": {
      "provenance": [],
      "authorship_tag": "ABX9TyPQJWT7U8AuKT8dAsIfWbV7",
      "include_colab_link": true
    },
    "kernelspec": {
      "name": "python3",
      "display_name": "Python 3"
    },
    "language_info": {
      "name": "python"
    }
  },
  "cells": [
    {
      "cell_type": "markdown",
      "metadata": {
        "id": "view-in-github",
        "colab_type": "text"
      },
      "source": [
        "<a href=\"https://colab.research.google.com/github/Nashra-Tazmeen/Daily_learnings/blob/main/D_1.ipynb\" target=\"_parent\"><img src=\"https://colab.research.google.com/assets/colab-badge.svg\" alt=\"Open In Colab\"/></a>"
      ]
    },
    {
      "cell_type": "markdown",
      "source": [
        "1.Phonepay Decision scientist Interview questions:\n",
        "\n",
        ".There are two tables\n",
        "1.customers-name,address,age,customer_id\n",
        "2. transactions-\n",
        "customer_id,Transaction_id,tranaction_date,amount,bank_name,transaction_mode,\n",
        "\n",
        "write a query to fetch first transaction of the day for each customer\n",
        "https://onecompiler.com/mysql/42qvvw8uu\n",
        "\n",
        "\n",
        "\n",
        "SQL ROW_NUMBER Syntax::\n",
        "\n",
        "\n",
        "The syntax for ROW_NUMBER function in SQL is as follows-\n",
        "\n",
        "ROW_NUMBER() OVER (\n",
        "[PARTITION BY partition_expression, ... ]\n",
        "ORDER BY sort_expression [ASC | DESC], ...\n",
        ")\n",
        "\n",
        "Now, let us look at the different clauses used in the syntax above.\n",
        "\n",
        "OVER\n",
        "This clause specifies the window or set of rows that the window function operates. The PARTITION BY and ORDER BY are the two possible clauses of the OVER clause.\n",
        "\n",
        "PARTITION BY\n",
        "It is an optional clause in the ROW_NUMBER function. It is a clause that divides the result set into partitions (groups of rows). The ROW_NUMBER() method is then applied to each partition, which assigns a separate rank number to each partition.\n",
        "\n",
        "If the partition by clause is not specified, the ROW NUMBER function will treat the entire result as a single partition and rank it from top to bottom.\n",
        "\n",
        "ORDER BY\n",
        "Within each partition, this clause allows us to order the rows in the result set. Because the ROW NUMBER() function is order-dependent, it is a necessary clause.\n"
      ],
      "metadata": {
        "id": "DvQS4eWcZpAS"
      }
    },
    {
      "cell_type": "code",
      "source": [],
      "metadata": {
        "id": "JOKzoGrHZ5nB"
      },
      "execution_count": null,
      "outputs": []
    }
  ]
}